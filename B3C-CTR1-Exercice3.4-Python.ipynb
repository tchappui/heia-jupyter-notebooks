{
 "cells": [
  {
   "cell_type": "markdown",
   "metadata": {},
   "source": [
    "# B3C-CTR1 Exercice 3.4\n",
    "\n",
    "Une réaction irréversible du premier ordre se produit dans un réacteur CSTR:\n",
    "\n",
    "$$A \\to 𝐵+𝐶$$\n",
    "\n",
    "Si 𝑘=0.01 (s<sup>-1</sup>), la concentration de A à l’entrée du réacteur est de 𝐶_𝐴0=3 (kmol/m3) et le flux volumique est de 0.001 m<sup>3</sup>/s, calculer le volume du réacteur et le temps de passage pour atteindre une conversion de 30 %.\n"
   ]
  },
  {
   "cell_type": "code",
   "execution_count": 15,
   "metadata": {
    "collapsed": true
   },
   "outputs": [],
   "source": [
    "# On commence par renseigner Python au sujet des packages à utiliser\n",
    "%matplotlib inline\n",
    "import numpy as np\n",
    "from scipy.integrate import odeint\n",
    "import matplotlib.pyplot as plt\n"
   ]
  },
  {
   "cell_type": "markdown",
   "metadata": {},
   "source": [
    "La description du problème est relativement simple ici. Nous avons quatre constantes à décrire pour démarrer: la constante de vitesse, le débit volumique et le temps de passage."
   ]
  },
  {
   "cell_type": "code",
   "execution_count": 16,
   "metadata": {
    "collapsed": true
   },
   "outputs": [],
   "source": [
    "# Constantes\n",
    "k = 0.01 # (1/s)\n",
    "Vdot = 2 # (L/s)\n",
    "tau = 50 # (s)"
   ]
  },
  {
   "cell_type": "markdown",
   "metadata": {},
   "source": [
    "Comme toujours, on définit les équations différentielles à résoudre dans une fonction. Ici, j'ai choisi d'appeler ma fonction bilans():"
   ]
  },
  {
   "cell_type": "code",
   "execution_count": 17,
   "metadata": {
    "collapsed": true
   },
   "outputs": [],
   "source": [
    "def bilans(y, t, k, CA0, CB0, CC0, tau):\n",
    "    CA, CB, CC = y\n",
    "\n",
    "    # loi de vitesse\n",
    "    r = k * CA\n",
    "\n",
    "    # Vitesses de transformation\n",
    "    RA = -r\n",
    "    RB = r\n",
    "    RC = r\n",
    "\n",
    "    # Bilans de matière\n",
    "    dCA = (1/tau) * CA0 - (1/tau) * CA + RA\n",
    "    dCB = (1/tau) * CB0 - (1/tau) * CB + RB\n",
    "    dCC = (1/tau) * CC0 - (1/tau) * CC + RC\n",
    "\n",
    "    return [dCA, dCB, dCC]"
   ]
  },
  {
   "cell_type": "code",
   "execution_count": 18,
   "metadata": {
    "collapsed": true
   },
   "outputs": [],
   "source": [
    "# Conditions initiales\n",
    "CA0 = 3 # mol/L\n",
    "CB0 = 0 # mol/L\n",
    "CC0 = 0 # mol/L\n",
    "y0 = [CA0, CB0, CC0] # mol/L"
   ]
  },
  {
   "cell_type": "code",
   "execution_count": 19,
   "metadata": {
    "collapsed": true
   },
   "outputs": [],
   "source": [
    "# Domaine d'intégration\n",
    "t = np.linspace(0, 1000, 1001) # s"
   ]
  },
  {
   "cell_type": "code",
   "execution_count": 20,
   "metadata": {
    "collapsed": true
   },
   "outputs": [],
   "source": [
    "# Résolution à l'aide du solveur\n",
    "y = odeint(bilans, y0, t, (k, CA0, CB0, CC0, tau))"
   ]
  },
  {
   "cell_type": "markdown",
   "metadata": {},
   "source": [
    "Une fois le problème résolu, on peut tracer les profils de concentration en fonction du temps sur un graphique afin d'observer l'évolution:"
   ]
  },
  {
   "cell_type": "code",
   "execution_count": 21,
   "metadata": {
    "collapsed": false
   },
   "outputs": [
    {
     "data": {
      "image/png": "[encoded data removed]",
      "text/plain": [
       "<matplotlib.figure.Figure at 0x2ada02a7668>"
      ]
     },
     "metadata": {},
     "output_type": "display_data"
    }
   ],
   "source": [
    "# Visualisation\n",
    "plt.figure(1, figsize=(8, 6), dpi=100)\n",
    "plt.plot(t, y)\n",
    "plt.xlabel('t')\n",
    "plt.ylabel('$C_{i}$')\n",
    "plt.legend (['$C_{A}$','$C_{G}$','$C_{C}$'])\n",
    "plt.show()\n"
   ]
  },
  {
   "cell_type": "markdown",
   "metadata": {},
   "source": [
    "On constate qu'après un temps de $5\\tau$ plus ou moins, les concentrations ne varient plus. On a alors atteint ce qu'on appelle l'état stationnaire où l'accumulation vaut zéro. A partir de ce moment, les concentration en sortie de réacteur sont stables et il est possible de continuer à opérer le réacteur de cette manière pendant une longue durée."
   ]
  },
  {
   "cell_type": "markdown",
   "metadata": {},
   "source": [
    "Afin de répondre à la question posée, il faudrait varier $\\tau$ de telle manière à trouver sa valeur particulière pour que le taux de conversion devienne 30 %."
   ]
  },
  {
   "cell_type": "markdown",
   "metadata": {},
   "source": [
    "Toutefois, comme nous nous intéressons uniquement à la résolution de l'état stationnaire. La résolution des équations différentielles comme ci-dessus pour un réacteur CSTR n'est en pratique pas nécessaire. En effet, il est préférable d'utiliser l'équation algébrique résultant du bilan de matière à l'état stationnaire. \n",
    "\n",
    "Ainsi, le temps de passage nécessaire pour atteindre une conversion de 30 % peut être déterminer comme suit:"
   ]
  },
  {
   "cell_type": "code",
   "execution_count": 22,
   "metadata": {
    "collapsed": false
   },
   "outputs": [
    {
     "name": "stdout",
     "output_type": "stream",
     "text": [
      "tau vaut 42.86 (s).\n"
     ]
    }
   ],
   "source": [
    "CA0 = 3 # mol/L\n",
    "X = 0.3 # -\n",
    "\n",
    "tau = CA0 * X / (k * CA0 * (1-X))\n",
    "\n",
    "print(\"tau vaut %.2f (s).\" % (tau))"
   ]
  },
  {
   "cell_type": "markdown",
   "metadata": {},
   "source": [
    "Ainsi, il faut un temps de séjour moyen de 42.9 s au mélange réactionnel dans le réacteur pour atteindre une conversion de 30 %."
   ]
  }
 ],
 "metadata": {
  "anaconda-cloud": {},
  "kernelspec": {
   "display_name": "Python [default]",
   "language": "python",
   "name": "python3"
  },
  "language_info": {
   "codemirror_mode": {
    "name": "ipython",
    "version": 3
   },
   "file_extension": ".py",
   "mimetype": "text/x-python",
   "name": "python",
   "nbconvert_exporter": "python",
   "pygments_lexer": "ipython3",
   "version": "3.5.2"
  }
 },
 "nbformat": 4,
 "nbformat_minor": 1
}
