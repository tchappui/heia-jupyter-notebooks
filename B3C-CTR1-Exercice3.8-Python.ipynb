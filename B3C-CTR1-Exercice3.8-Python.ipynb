{
 "cells": [
  {
   "cell_type": "markdown",
   "metadata": {},
   "source": [
    "# B3C-CTR1 Exercice 3.8\n",
    "\n",
    "On considère la réaction élémentaire suivante en phase gazeuse:\n",
    "\n",
    "$$2𝐴+𝐵 \\xrightarrow{k} 𝐶$$\n",
    "\n",
    "La constante de vitesse de cette réaction est 10 L<sup>2</sup>/mol<sup>2</sup>∙s. Vous voulez effectuer cette réaction dans un réacteur tubulaire industriel isotherme de 250 L avec un débit volumique entrant de 4 L/s. Le réacteur est maintenu à une température de 500 K et une pression de 16.4 atm. Il n’y a pas de perte de charge le long du réacteur et les fractions molaires de A et de B dans le mélange réactionnel sont toutes deux de 0.5.\n",
    "\n",
    "- Tracer les profils de concentration des différentes espèces chimiques dans le réacteur tubulaire.\n",
    "- Quels temps de passage seront nécessaires pour atteindre des conversion de 80 % et de 99 % dans un tel réacteur?\n"
   ]
  },
  {
   "cell_type": "markdown",
   "metadata": {},
   "source": [
    "## Solution\n",
    "\n",
    "On commence par importer les packages nécessaires pour la résolution"
   ]
  },
  {
   "cell_type": "code",
   "execution_count": 1,
   "metadata": {
    "collapsed": true
   },
   "outputs": [],
   "source": [
    "%matplotlib inline\n",
    "import numpy as np\n",
    "from scipy.integrate import odeint\n",
    "import matplotlib.pyplot as plt"
   ]
  },
  {
   "cell_type": "markdown",
   "metadata": {},
   "source": [
    "On configure le problème à résoudre en définissant les constantes et les conditions initiales."
   ]
  },
  {
   "cell_type": "code",
   "execution_count": 2,
   "metadata": {
    "collapsed": true
   },
   "outputs": [],
   "source": [
    "# Définition des constantes\n",
    "R = 0.0821 # L * atm/mol * K\n",
    "\n",
    "k = 10 # L2/mol2*s\n",
    "Vdot0 = 4 # L/s\n",
    "yA0 = 0.5 # -\n",
    "p0 = 16.4 # atm\n",
    "T0 = 500 # K\n",
    "alpha = -0.5 # -\n"
   ]
  },
  {
   "cell_type": "code",
   "execution_count": 3,
   "metadata": {
    "collapsed": false
   },
   "outputs": [],
   "source": [
    "# Définition des équations différentielles\n",
    "def bilans(y, V, FA0, Vdot0, alpha, k):\n",
    "    # On récuprère les variables dépendantes\n",
    "    FA, FB, FC = y\n",
    "    \n",
    "    # Comme le débit volumique varie en fonction de la concentration, on\n",
    "    # commence par calculer le taux de conversion puis le débit.\n",
    "    X = 1 - FA / FA0\n",
    "    Vdot = Vdot0 * (1 + alpha * X)\n",
    "    \n",
    "    # A l'aide du débit volumique, on peut calculer les concentration\n",
    "    # en vue du calcul de la cinétique.\n",
    "    CA = FA / Vdot\n",
    "    CB = FB / Vdot\n",
    "    CC = FC / Vdot\n",
    "\n",
    "    # Vitesse de réaction = f(CA, CB)\n",
    "    r = k * CA**2 * CB\n",
    "\n",
    "    # Vitesse de transformation\n",
    "    RA = -2 * r\n",
    "    RB = -r\n",
    "    RC = r\n",
    "\n",
    "    # Bilans de matières sur A, B et C pour un réacteur PFR\n",
    "    dFAdV = RA\n",
    "    dFBdV = RB\n",
    "    dFCdV = RC\n",
    "\n",
    "    return [dFAdV, dFBdV, dFCdV]\n",
    "    "
   ]
  },
  {
   "cell_type": "code",
   "execution_count": 4,
   "metadata": {
    "collapsed": false
   },
   "outputs": [],
   "source": [
    "# Conditions initiales (débits molaires!)\n",
    "CA0 = yA0 *  p0 / (R * T0) # mol/L (selon la loi des gaz parfaits)\n",
    "CB0 = CA0 # mol/L\n",
    "CC0 = 0 # mol/L \n",
    "\n",
    "FA0 = CA0 * Vdot0 # mol/L * L/s = mol/s\n",
    "FB0 = CB0 * Vdot0 # mol/s\n",
    "FC0 = 0 # mol/s\n",
    "\n",
    "y0 = [FA0, FB0, FC0] # mol/s\n",
    "\n"
   ]
  },
  {
   "cell_type": "code",
   "execution_count": 5,
   "metadata": {
    "collapsed": true
   },
   "outputs": [],
   "source": [
    "# Domaine d'intégration\n",
    "V = np.linspace(0, 250, 251) # L"
   ]
  },
  {
   "cell_type": "code",
   "execution_count": 7,
   "metadata": {
    "collapsed": true
   },
   "outputs": [],
   "source": [
    "# Résolution\n",
    "y = odeint(bilans, y0, V, (FA0, Vdot0, alpha, k));"
   ]
  },
  {
   "cell_type": "code",
   "execution_count": 8,
   "metadata": {
    "collapsed": true
   },
   "outputs": [],
   "source": [
    "# Après la résolution, on doit recalculer les concentrations. Donc:\n",
    "#  1. Extraire les débits molaires de y\n",
    "#  2. Calculer le vecteur taux de conversion en fonction de la position V\n",
    "#  3. Calculer le vecteur débit volumique en fonction de la position\n",
    "#  4. Calculer les vecteurs concentration en fonction de la position\n",
    "FA = y[:,0]\n",
    "FB = y[:,1]\n",
    "FC = y[:,2]\n",
    "\n",
    "X = 1 - FA / FA0\n",
    "Vdot = Vdot0 * (1 + alpha * X)\n",
    "\n",
    "CA = FA / Vdot\n",
    "CB = FB / Vdot\n",
    "CC = FC / Vdot"
   ]
  },
  {
   "cell_type": "code",
   "execution_count": 9,
   "metadata": {
    "collapsed": false
   },
   "outputs": [
    {
     "data": {
      "image/png": "[encoded data removed]",
      "text/plain": [
       "<matplotlib.figure.Figure at 0x1e88c6356a0>"
      ]
     },
     "metadata": {},
     "output_type": "display_data"
    }
   ],
   "source": [
    "plt.figure(1, figsize=(8, 6), dpi=100)\n",
    "plt.plot(V, CA, V, CB, V, CC)\n",
    "plt.xlabel('V (kg-cat)')\n",
    "plt.ylabel('$C_{i} (mol/L)$')\n",
    "plt.legend (['A','B', 'C'])\n",
    "plt.show()"
   ]
  },
  {
   "cell_type": "code",
   "execution_count": 10,
   "metadata": {
    "collapsed": false
   },
   "outputs": [
    {
     "data": {
      "image/png": "[encoded data removed]",
      "text/plain": [
       "<matplotlib.figure.Figure at 0x1e88d156a58>"
      ]
     },
     "metadata": {},
     "output_type": "display_data"
    }
   ],
   "source": [
    "plt.figure(2, figsize=(8, 6), dpi=100)\n",
    "plt.plot(V, X)\n",
    "plt.xlabel('V (kg-cat)')\n",
    "plt.ylabel('X (-)')\n",
    "plt.show()"
   ]
  },
  {
   "cell_type": "code",
   "execution_count": null,
   "metadata": {
    "collapsed": true
   },
   "outputs": [],
   "source": []
  }
 ],
 "metadata": {
  "anaconda-cloud": {},
  "kernelspec": {
   "display_name": "Python [default]",
   "language": "python",
   "name": "python3"
  },
  "language_info": {
   "codemirror_mode": {
    "name": "ipython",
    "version": 3
   },
   "file_extension": ".py",
   "mimetype": "text/x-python",
   "name": "python",
   "nbconvert_exporter": "python",
   "pygments_lexer": "ipython3",
   "version": "3.5.2"
  }
 },
 "nbformat": 4,
 "nbformat_minor": 0
}
