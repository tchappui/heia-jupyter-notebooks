{
 "cells": [
  {
   "cell_type": "markdown",
   "metadata": {},
   "source": [
    "# Exercice 2.1"
   ]
  },
  {
   "cell_type": "markdown",
   "metadata": {},
   "source": [
    "Clausius-Clapeyron"
   ]
  },
  {
   "cell_type": "code",
   "execution_count": 1,
   "metadata": {
    "collapsed": true
   },
   "outputs": [],
   "source": [
    "from math import log, exp"
   ]
  },
  {
   "cell_type": "code",
   "execution_count": 2,
   "metadata": {},
   "outputs": [
    {
     "ename": "SyntaxError",
     "evalue": "invalid syntax (<ipython-input-2-15e5c89892d7>, line 2)",
     "output_type": "error",
     "traceback": [
      "\u001b[0;36m  File \u001b[0;32m\"<ipython-input-2-15e5c89892d7>\"\u001b[0;36m, line \u001b[0;32m2\u001b[0m\n\u001b[0;31m    'Teb': ,\u001b[0m\n\u001b[0m           ^\u001b[0m\n\u001b[0;31mSyntaxError\u001b[0m\u001b[0;31m:\u001b[0m invalid syntax\n"
     ]
    }
   ],
   "source": [
    "ClausiusCyclohexane = {\n",
    "    'Teb': ,\n",
    "    'Peb': , # bar\n",
    "    'DeltaH': \n",
    "} \n",
    "\n",
    "ClausiusHeptane = {\n",
    "    'Teb': ,\n",
    "    'Peb': 1., # bar\n",
    "    'DeltaH': \n",
    "}\n",
    "\n",
    "def clapeyron(T, params):\n",
    "    log_P = log(params['Peb']) + (params['DeltaH']*1000)/8.314 * (1/params['Teb'] - 1/T)\n",
    "    return exp(log_P)"
   ]
  },
  {
   "cell_type": "markdown",
   "metadata": {},
   "source": [
    "Antoine"
   ]
  },
  {
   "cell_type": "code",
   "execution_count": null,
   "metadata": {
    "collapsed": true
   },
   "outputs": [],
   "source": [
    "AntoineBenzene = {\n",
    "    'A': 4.72583,\n",
    "    'B': 1660.652,\n",
    "    'C': -1.461\n",
    "}\n",
    "\n",
    "AntoineToluene = {\n",
    "    'A': 4.07827,\n",
    "    'B': 1343.943,\n",
    "    'C': -53.773  \n",
    "}\n",
    "\n",
    "def antoine(T, params):\n",
    "    log10_P = params['A'] - params['B'] / (T + params['C'])\n",
    "    return 10**log10_P"
   ]
  },
  {
   "cell_type": "code",
   "execution_count": null,
   "metadata": {
    "collapsed": true
   },
   "outputs": [],
   "source": []
  }
 ],
 "metadata": {
  "kernelspec": {
   "display_name": "Python 3",
   "language": "python",
   "name": "python3"
  },
  "language_info": {
   "codemirror_mode": {
    "name": "ipython",
    "version": 3
   },
   "file_extension": ".py",
   "mimetype": "text/x-python",
   "name": "python",
   "nbconvert_exporter": "python",
   "pygments_lexer": "ipython3",
   "version": "3.6.1"
  }
 },
 "nbformat": 4,
 "nbformat_minor": 2
}
