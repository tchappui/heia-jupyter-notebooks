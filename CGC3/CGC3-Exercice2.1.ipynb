{
 "cells": [
  {
   "cell_type": "markdown",
   "metadata": {},
   "source": [
    "# Exercice 2.1"
   ]
  },
  {
   "cell_type": "markdown",
   "metadata": {},
   "source": [
    "Clausius-Clapeyron"
   ]
  },
  {
   "cell_type": "code",
   "execution_count": 1,
   "metadata": {
    "collapsed": true
   },
   "outputs": [],
   "source": [
    "from math import log, exp"
   ]
  },
  {
   "cell_type": "code",
   "execution_count": 2,
   "metadata": {
    "collapsed": true
   },
   "outputs": [],
   "source": [
    "ClausiusBenzene = {\n",
    "    'Teb': 353.3,\n",
    "    'Peb': 1.01325, # bar\n",
    "    'DeltaH': 30.6\n",
    "} \n",
    "\n",
    "ClausiusToluene = {\n",
    "    'Teb': 383.8,\n",
    "    'Peb': 1.01325, # bar\n",
    "    'DeltaH': 37.0,\n",
    "}\n",
    "\n",
    "def clapeyron(T, params):\n",
    "    log_P = log(params['Peb']) + (params['DeltaH']*1000)/8.314 * (1/params['Teb'] - 1/T)\n",
    "    return exp(log_P)"
   ]
  },
  {
   "cell_type": "markdown",
   "metadata": {},
   "source": [
    "Antoine"
   ]
  },
  {
   "cell_type": "code",
   "execution_count": 3,
   "metadata": {
    "collapsed": true
   },
   "outputs": [],
   "source": [
    "AntoineBenzene = {\n",
    "    'A': 4.72583,\n",
    "    'B': 1660.652,\n",
    "    'C': -1.461\n",
    "}\n",
    "\n",
    "AntoineToluene = {\n",
    "    'A': 4.07827,\n",
    "    'B': 1343.943,\n",
    "    'C': -53.773  \n",
    "}\n",
    "\n",
    "def antoine(T, params):\n",
    "    log10_P = params['A'] - params['B'] / (T + params['C'])\n",
    "    return 10**log10_P"
   ]
  },
  {
   "cell_type": "markdown",
   "metadata": {},
   "source": [
    "On calcule les pressions de vapeur saturantes à 363.13 K pour le Benzène"
   ]
  },
  {
   "cell_type": "code",
   "execution_count": 4,
   "metadata": {},
   "outputs": [
    {
     "data": {
      "text/plain": [
       "(1.3433540533996182, 1.3620564505466266)"
      ]
     },
     "execution_count": 4,
     "metadata": {},
     "output_type": "execute_result"
    }
   ],
   "source": [
    "clapeyron(363.13, ClausiusBenzene), antoine(363.13, AntoineBenzene)\n"
   ]
  },
  {
   "cell_type": "markdown",
   "metadata": {},
   "source": [
    "On calcule les pressions de vapeur saturantes à 363.13 K pour le Toluène"
   ]
  },
  {
   "cell_type": "code",
   "execution_count": 5,
   "metadata": {},
   "outputs": [
    {
     "data": {
      "text/plain": [
       "(0.5236827859280384, 0.5419497974042212)"
      ]
     },
     "execution_count": 5,
     "metadata": {},
     "output_type": "execute_result"
    }
   ],
   "source": [
    "clapeyron(363.13, ClausiusToluene), antoine(363.13, AntoineToluene)"
   ]
  },
  {
   "cell_type": "code",
   "execution_count": 6,
   "metadata": {},
   "outputs": [],
   "source": [
    "Ptot = 0.1 * antoine(363.13, AntoineBenzene) + 0.9 * antoine(363.13, AntoineToluene)"
   ]
  },
  {
   "cell_type": "code",
   "execution_count": 7,
   "metadata": {},
   "outputs": [
    {
     "data": {
      "text/plain": [
       "0.6239604627184618"
      ]
     },
     "execution_count": 7,
     "metadata": {},
     "output_type": "execute_result"
    }
   ],
   "source": [
    "Ptot"
   ]
  },
  {
   "cell_type": "code",
   "execution_count": 8,
   "metadata": {
    "collapsed": true
   },
   "outputs": [],
   "source": [
    "y = 0.1 * antoine(363.13, AntoineBenzene) / Ptot"
   ]
  },
  {
   "cell_type": "code",
   "execution_count": 9,
   "metadata": {},
   "outputs": [
    {
     "data": {
      "text/plain": [
       "0.21829210854361494"
      ]
     },
     "execution_count": 9,
     "metadata": {},
     "output_type": "execute_result"
    }
   ],
   "source": [
    "y"
   ]
  },
  {
   "cell_type": "markdown",
   "metadata": {},
   "source": [
    "# Le diagramme Txy\n",
    "\n",
    "Cette fois, on maintient la pression à 1.01325 bar et on désire calculer la température d'ébullition du mélange à une composition de 30 mol% de benzène et 70 mol% de toluène."
   ]
  },
  {
   "cell_type": "code",
   "execution_count": 49,
   "metadata": {
    "collapsed": true
   },
   "outputs": [],
   "source": [
    "def error_equation(T, x, P):\n",
    "    return x * antoine(T, AntoineBenzene) + (1-x) * antoine(T, AntoineToluene) - P"
   ]
  },
  {
   "cell_type": "code",
   "execution_count": 78,
   "metadata": {
    "scrolled": true
   },
   "outputs": [
    {
     "name": "stdout",
     "output_type": "stream",
     "text": [
      "0.0   383.773093822\n",
      "0.1   379.211925255\n",
      "0.2   375.15741214\n",
      "0.3   371.516776666\n",
      "0.4   368.219935765\n",
      "0.5   365.212730607\n",
      "0.6   362.452496688\n",
      "0.7   359.90506702\n",
      "0.8   357.542686741\n",
      "0.9   355.342526331\n",
      "1.0   353.285599038\n"
     ]
    }
   ],
   "source": [
    "from scipy.optimize import fsolve\n",
    "import numpy as np\n",
    "\n",
    "Psys = 1.01325\n",
    "Ts = []\n",
    "xs = np.arange(0, 1.1, 0.1)\n",
    "\n",
    "for x in xs:\n",
    "    T = fsolve(error_equation, 330, (x, Psys))\n",
    "    Ts.extend(T)\n",
    "\n",
    "for T, x in zip(Ts, xs):\n",
    "    print(x, \" \", T)"
   ]
  },
  {
   "cell_type": "code",
   "execution_count": 79,
   "metadata": {},
   "outputs": [
    {
     "name": "stdout",
     "output_type": "stream",
     "text": [
      "0.0   383.773093822   0.0\n",
      "0.1   379.211925255   0.210842122006\n",
      "0.2   375.15741214   0.37782455108\n",
      "0.3   371.516776666   0.512462965058\n",
      "0.4   368.219935765   0.622675656093\n",
      "0.5   365.212730607   0.714066714526\n",
      "0.6   362.452496688   0.790700903879\n",
      "0.7   359.90506702   0.855589499291\n",
      "0.8   357.542686741   0.911004832806\n",
      "0.9   355.342526331   0.958689669114\n",
      "1.0   353.285599038   1.0\n"
     ]
    }
   ],
   "source": [
    "ys = []\n",
    "for T, x in zip(Ts, xs):\n",
    "    y = x * antoine(T, AntoineBenzene) / Psys\n",
    "    ys.append(y)\n",
    "    \n",
    "for T, x, y in zip(Ts, xs, ys):\n",
    "    print(x, \" \", T, \" \", y)   "
   ]
  },
  {
   "cell_type": "code",
   "execution_count": 80,
   "metadata": {
    "collapsed": true
   },
   "outputs": [],
   "source": [
    "Ts = np.array(Ts)\n",
    "xs = np.array(xs)\n",
    "ys = np.array(ys)"
   ]
  },
  {
   "cell_type": "code",
   "execution_count": 85,
   "metadata": {},
   "outputs": [
    {
     "data": {
      "image/png": "[encoded data removed]",
      "text/plain": [
       "<matplotlib.figure.Figure at 0x11d1474e0>"
      ]
     },
     "metadata": {},
     "output_type": "display_data"
    }
   ],
   "source": [
    "import matplotlib.pylab as plt\n",
    "\n",
    "plt.figure(1, figsize=(10, 8), dpi=100)\n",
    "plt.plot(xs, Ts, ys, Ts)\n",
    "plt.ylabel('T (K)')\n",
    "plt.xlabel(\"x, y\")\n",
    "plt.legend(['liquide', 'gaz'])\n",
    "plt.show()\n",
    "\n",
    "\n"
   ]
  },
  {
   "cell_type": "code",
   "execution_count": 86,
   "metadata": {},
   "outputs": [
    {
     "name": "stdout",
     "output_type": "stream",
     "text": [
      "Help on function grid in module matplotlib.pyplot:\n",
      "\n",
      "grid(b=None, which='major', axis='both', **kwargs)\n",
      "    Turn the axes grids on or off.\n",
      "    \n",
      "    Set the axes grids on or off; *b* is a boolean.  (For MATLAB\n",
      "    compatibility, *b* may also be a string, 'on' or 'off'.)\n",
      "    \n",
      "    If *b* is *None* and ``len(kwargs)==0``, toggle the grid state.  If\n",
      "    *kwargs* are supplied, it is assumed that you want a grid and *b*\n",
      "    is thus set to *True*.\n",
      "    \n",
      "    *which* can be 'major' (default), 'minor', or 'both' to control\n",
      "    whether major tick grids, minor tick grids, or both are affected.\n",
      "    \n",
      "    *axis* can be 'both' (default), 'x', or 'y' to control which\n",
      "    set of gridlines are drawn.\n",
      "    \n",
      "    *kwargs* are used to set the grid line properties, e.g.,::\n",
      "    \n",
      "       ax.grid(color='r', linestyle='-', linewidth=2)\n",
      "    \n",
      "    Valid :class:`~matplotlib.lines.Line2D` kwargs are\n",
      "    \n",
      "      agg_filter: unknown\n",
      "      alpha: float (0.0 transparent through 1.0 opaque) \n",
      "      animated: [True | False] \n",
      "      antialiased or aa: [True | False] \n",
      "      axes: an :class:`~matplotlib.axes.Axes` instance \n",
      "      clip_box: a :class:`matplotlib.transforms.Bbox` instance \n",
      "      clip_on: [True | False] \n",
      "      clip_path: [ (:class:`~matplotlib.path.Path`, :class:`~matplotlib.transforms.Transform`) | :class:`~matplotlib.patches.Patch` | None ] \n",
      "      color or c: any matplotlib color \n",
      "      contains: a callable function \n",
      "      dash_capstyle: ['butt' | 'round' | 'projecting'] \n",
      "      dash_joinstyle: ['miter' | 'round' | 'bevel'] \n",
      "      dashes: sequence of on/off ink in points \n",
      "      drawstyle: ['default' | 'steps' | 'steps-pre' | 'steps-mid' | 'steps-post'] \n",
      "      figure: a :class:`matplotlib.figure.Figure` instance \n",
      "      fillstyle: ['full' | 'left' | 'right' | 'bottom' | 'top' | 'none'] \n",
      "      gid: an id string \n",
      "      label: string or anything printable with '%s' conversion. \n",
      "      linestyle or ls: ['solid' | 'dashed', 'dashdot', 'dotted' | (offset, on-off-dash-seq) | ``'-'`` | ``'--'`` | ``'-.'`` | ``':'`` | ``'None'`` | ``' '`` | ``''``]\n",
      "      linewidth or lw: float value in points \n",
      "      marker: :mod:`A valid marker style <matplotlib.markers>`\n",
      "      markeredgecolor or mec: any matplotlib color \n",
      "      markeredgewidth or mew: float value in points \n",
      "      markerfacecolor or mfc: any matplotlib color \n",
      "      markerfacecoloralt or mfcalt: any matplotlib color \n",
      "      markersize or ms: float \n",
      "      markevery: [None | int | length-2 tuple of int | slice | list/array of int | float | length-2 tuple of float]\n",
      "      path_effects: unknown\n",
      "      picker: float distance in points or callable pick function ``fn(artist, event)`` \n",
      "      pickradius: float distance in points \n",
      "      rasterized: [True | False | None] \n",
      "      sketch_params: unknown\n",
      "      snap: unknown\n",
      "      solid_capstyle: ['butt' | 'round' |  'projecting'] \n",
      "      solid_joinstyle: ['miter' | 'round' | 'bevel'] \n",
      "      transform: a :class:`matplotlib.transforms.Transform` instance \n",
      "      url: a url string \n",
      "      visible: [True | False] \n",
      "      xdata: 1D array \n",
      "      ydata: 1D array \n",
      "      zorder: any number\n",
      "\n"
     ]
    }
   ],
   "source": [
    "help(plt.grid)"
   ]
  },
  {
   "cell_type": "code",
   "execution_count": null,
   "metadata": {
    "collapsed": true
   },
   "outputs": [],
   "source": []
  }
 ],
 "metadata": {
  "kernelspec": {
   "display_name": "Python 3",
   "language": "python",
   "name": "python3"
  },
  "language_info": {
   "codemirror_mode": {
    "name": "ipython",
    "version": 3
   },
   "file_extension": ".py",
   "mimetype": "text/x-python",
   "name": "python",
   "nbconvert_exporter": "python",
   "pygments_lexer": "ipython3",
   "version": "3.6.1"
  }
 },
 "nbformat": 4,
 "nbformat_minor": 2
}
